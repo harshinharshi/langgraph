{
 "cells": [
  {
   "cell_type": "code",
   "execution_count": null,
   "id": "77320473",
   "metadata": {},
   "outputs": [
    {
     "data": {
      "text/plain": [
       "True"
      ]
     },
     "execution_count": 5,
     "metadata": {},
     "output_type": "execute_result"
    }
   ],
   "source": [
    "# load environment variables from .env file\n",
    "from dotenv import load_dotenv\n",
    "\n",
    "# Load .env file\n",
    "load_dotenv()"
   ]
  },
  {
   "cell_type": "code",
   "execution_count": 6,
   "id": "994647e9",
   "metadata": {},
   "outputs": [],
   "source": [
    "from langchain_openai import ChatOpenAI\n",
    "\n",
    "llm = ChatOpenAI()\n",
    "# llm.invoke(\"Hello, world!\")"
   ]
  },
  {
   "cell_type": "code",
   "execution_count": null,
   "id": "cfc41680",
   "metadata": {},
   "outputs": [],
   "source": [
    "# Pre-build search tool\n",
    "from langchain_community.tools import DuckDuckGoSearchRun\n",
    "\n",
    "search_tool = DuckDuckGoSearchRun()"
   ]
  },
  {
   "cell_type": "code",
   "execution_count": null,
   "id": "8cfe2274",
   "metadata": {},
   "outputs": [],
   "source": [
    "# coustom tool\n",
    "import datetime\n",
    "from langchain.agents import tool\n",
    "\n",
    "\n",
    "@tool\n",
    "def get_system_time(format: str = \"%Y-%m-%d %H:%M:%S\"):\n",
    "    \"\"\" Returns the current date and time in the specified format \"\"\"\n",
    "\n",
    "    current_time = datetime.datetime.now()\n",
    "    formatted_time = current_time.strftime(format)\n",
    "    return formatted_time"
   ]
  },
  {
   "cell_type": "markdown",
   "id": "f47c60d3",
   "metadata": {},
   "source": [
    "### LangChain Agent Setup and Invocation\n",
    "\n",
    "This code sets up a LangChain agent using the **zero-shot-react-description** strategy. The agent is initialized with two tools:\n",
    "\n",
    "- `search_tool`: Likely used for querying recent web-based information (e.g., SpaceX launch).\n",
    "- `get_system_time`: A utility to fetch the current time.\n",
    "\n",
    "The `initialize_agent` function ties these tools with the specified LLM (`llm`) and enables verbose logging. The agent is then **invoked** with a natural language query:\n",
    "\n",
    "> \"When was SpaceX's last launch and how many days ago was that from this instant\"\n",
    "\n",
    "This showcases how LangChain agents can reason and act over multiple tools to answer temporal and web-based questions.\n"
   ]
  },
  {
   "cell_type": "code",
   "execution_count": null,
   "id": "50bee789",
   "metadata": {},
   "outputs": [
    {
     "name": "stdout",
     "output_type": "stream",
     "text": [
      "\n",
      "\n",
      "\u001b[1m> Entering new AgentExecutor chain...\u001b[0m\n",
      "\u001b[32;1m\u001b[1;3mI need to find out the date of SpaceX's last launch and calculate the number of days since then.\n",
      "Action: duckduckgo_search\n",
      "Action Input: \"SpaceX last launch date\"\u001b[0m\n",
      "Observation: \u001b[36;1m\u001b[1;3mA SpaceX Falcon 9 rocket lifts off from Launch Complex 39A (LC-39A) at NASA's Kennedy Space Center to begin the Starlink 12-10 mission on Monday, April 28, 2025. A SpaceX Falcon 9 rocket carrying Starlink satellites lifts off from NASA's Kennedy Space Center in Florida on Dec. 31, 2024, marking the company's 134th and last launch of the year. A SpaceX Falcon 9 rocket will launch the second of the two-satellite Sentinel-6 series. NASA awarded SpaceX a $94 million firm fixed price contract for the launch in 2022. That means tonight's Starlink mission countdown is locked in to lift off at 9:17 p.m. without any delays, or else the launch must be postponed to a later date. Next SpaceX launch may be Saturday ... SpaceX's next-generation Starship spacecraft atop its Super Heavy booster is launched on its eighth test at the company's Boca Chica launch pad in Brownsville, Texas, U.S., March 6, 2025.\u001b[0m\n",
      "Thought:\u001b[32;1m\u001b[1;3mI need to search for the current date and time to calculate the number of days since SpaceX's last launch. \n",
      "Action: get_system_time\n",
      "Action Input: '%Y-%m-%d'\u001b[0m\n",
      "Observation: \u001b[33;1m\u001b[1;3m'2025-05-10'\u001b[0m\n",
      "Thought:\u001b[32;1m\u001b[1;3mI have the date of SpaceX's last launch and the current date, now I can calculate the number of days since the last launch.\n",
      "Final Answer: SpaceX's last launch was on December 31, 2024, which was 131 days ago.\u001b[0m\n",
      "\n",
      "\u001b[1m> Finished chain.\u001b[0m\n"
     ]
    },
    {
     "data": {
      "text/plain": [
       "{'input': \"When was SpaceX's last launch and how many days ago was that from this instant\",\n",
       " 'output': \"SpaceX's last launch was on December 31, 2024, which was 131 days ago.\"}"
      ]
     },
     "execution_count": 9,
     "metadata": {},
     "output_type": "execute_result"
    }
   ],
   "source": [
    "from langchain.agents import initialize_agent\n",
    "\n",
    "tools = [search_tool, get_system_time]\n",
    "\n",
    "agent = initialize_agent(tools=tools, llm=llm, agent=\"zero-shot-react-description\", verbose=True)\n",
    "\n",
    "agent.invoke(\"When was SpaceX's last launch and how many days ago was that from this instant\")"
   ]
  }
 ],
 "metadata": {
  "kernelspec": {
   "display_name": "venv",
   "language": "python",
   "name": "python3"
  },
  "language_info": {
   "codemirror_mode": {
    "name": "ipython",
    "version": 3
   },
   "file_extension": ".py",
   "mimetype": "text/x-python",
   "name": "python",
   "nbconvert_exporter": "python",
   "pygments_lexer": "ipython3",
   "version": "3.12.7"
  }
 },
 "nbformat": 4,
 "nbformat_minor": 5
}
